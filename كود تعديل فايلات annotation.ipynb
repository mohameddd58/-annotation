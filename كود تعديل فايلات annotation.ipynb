{
 "cells": [
  {
   "cell_type": "code",
   "execution_count": 1,
   "id": "ea6c3691",
   "metadata": {},
   "outputs": [],
   "source": [
    "import os \n",
    "path = 'E:/TEST/' \n",
    "files = os.listdir(path) \n",
    "for file in files: \n",
    "    with open(os.path.join(path, file), 'r') as f: \n",
    "        lines = f.readlines() \n",
    "    for i, line in enumerate(lines):  \n",
    "        words = line.split(' ')  \n",
    "        if words[0].isdigit():  \n",
    "            words[0] = '1'  \n",
    "        lines[i] = ' '.join(words)  \n",
    "    with open(os.path.join(path, file), 'w') as f:    \n",
    "        f.writelines(lines)"
   ]
  },
  {
   "cell_type": "code",
   "execution_count": null,
   "id": "ab500176",
   "metadata": {},
   "outputs": [],
   "source": []
  }
 ],
 "metadata": {
  "kernelspec": {
   "display_name": "Python 3 (ipykernel)",
   "language": "python",
   "name": "python3"
  },
  "language_info": {
   "codemirror_mode": {
    "name": "ipython",
    "version": 3
   },
   "file_extension": ".py",
   "mimetype": "text/x-python",
   "name": "python",
   "nbconvert_exporter": "python",
   "pygments_lexer": "ipython3",
   "version": "3.8.8"
  }
 },
 "nbformat": 4,
 "nbformat_minor": 5
}
